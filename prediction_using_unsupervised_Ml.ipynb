{
  "nbformat": 4,
  "nbformat_minor": 0,
  "metadata": {
    "colab": {
      "name": "prediction using unsupervised Ml.ipynb",
      "provenance": []
    },
    "kernelspec": {
      "name": "python3",
      "display_name": "Python 3"
    },
    "language_info": {
      "name": "python"
    }
  },
  "cells": [
    {
      "cell_type": "code",
      "execution_count": 1,
      "metadata": {
        "id": "FJDN0-jE61qd"
      },
      "outputs": [],
      "source": [
        "import numpy as np\n",
        "import pandas as pd\n",
        "import matplotlib.pyplot as plt\n"
      ]
    },
    {
      "cell_type": "code",
      "source": [
        "df=pd.read_csv('/content/Iris.csv')\n",
        "df.head()"
      ],
      "metadata": {
        "colab": {
          "base_uri": "https://localhost:8080/",
          "height": 206
        },
        "id": "qB6LsCcT7r8I",
        "outputId": "ba96c8a6-0aa2-428d-8890-4562ff20f58f"
      },
      "execution_count": 3,
      "outputs": [
        {
          "output_type": "execute_result",
          "data": {
            "text/plain": [
              "   Id  SepalLengthCm  SepalWidthCm  PetalLengthCm  PetalWidthCm      Species\n",
              "0   1            5.1           3.5            1.4           0.2  Iris-setosa\n",
              "1   2            4.9           3.0            1.4           0.2  Iris-setosa\n",
              "2   3            4.7           3.2            1.3           0.2  Iris-setosa\n",
              "3   4            4.6           3.1            1.5           0.2  Iris-setosa\n",
              "4   5            5.0           3.6            1.4           0.2  Iris-setosa"
            ],
            "text/html": [
              "\n",
              "  <div id=\"df-ffef5cb6-ee83-4dc6-977c-b37e1825808b\">\n",
              "    <div class=\"colab-df-container\">\n",
              "      <div>\n",
              "<style scoped>\n",
              "    .dataframe tbody tr th:only-of-type {\n",
              "        vertical-align: middle;\n",
              "    }\n",
              "\n",
              "    .dataframe tbody tr th {\n",
              "        vertical-align: top;\n",
              "    }\n",
              "\n",
              "    .dataframe thead th {\n",
              "        text-align: right;\n",
              "    }\n",
              "</style>\n",
              "<table border=\"1\" class=\"dataframe\">\n",
              "  <thead>\n",
              "    <tr style=\"text-align: right;\">\n",
              "      <th></th>\n",
              "      <th>Id</th>\n",
              "      <th>SepalLengthCm</th>\n",
              "      <th>SepalWidthCm</th>\n",
              "      <th>PetalLengthCm</th>\n",
              "      <th>PetalWidthCm</th>\n",
              "      <th>Species</th>\n",
              "    </tr>\n",
              "  </thead>\n",
              "  <tbody>\n",
              "    <tr>\n",
              "      <th>0</th>\n",
              "      <td>1</td>\n",
              "      <td>5.1</td>\n",
              "      <td>3.5</td>\n",
              "      <td>1.4</td>\n",
              "      <td>0.2</td>\n",
              "      <td>Iris-setosa</td>\n",
              "    </tr>\n",
              "    <tr>\n",
              "      <th>1</th>\n",
              "      <td>2</td>\n",
              "      <td>4.9</td>\n",
              "      <td>3.0</td>\n",
              "      <td>1.4</td>\n",
              "      <td>0.2</td>\n",
              "      <td>Iris-setosa</td>\n",
              "    </tr>\n",
              "    <tr>\n",
              "      <th>2</th>\n",
              "      <td>3</td>\n",
              "      <td>4.7</td>\n",
              "      <td>3.2</td>\n",
              "      <td>1.3</td>\n",
              "      <td>0.2</td>\n",
              "      <td>Iris-setosa</td>\n",
              "    </tr>\n",
              "    <tr>\n",
              "      <th>3</th>\n",
              "      <td>4</td>\n",
              "      <td>4.6</td>\n",
              "      <td>3.1</td>\n",
              "      <td>1.5</td>\n",
              "      <td>0.2</td>\n",
              "      <td>Iris-setosa</td>\n",
              "    </tr>\n",
              "    <tr>\n",
              "      <th>4</th>\n",
              "      <td>5</td>\n",
              "      <td>5.0</td>\n",
              "      <td>3.6</td>\n",
              "      <td>1.4</td>\n",
              "      <td>0.2</td>\n",
              "      <td>Iris-setosa</td>\n",
              "    </tr>\n",
              "  </tbody>\n",
              "</table>\n",
              "</div>\n",
              "      <button class=\"colab-df-convert\" onclick=\"convertToInteractive('df-ffef5cb6-ee83-4dc6-977c-b37e1825808b')\"\n",
              "              title=\"Convert this dataframe to an interactive table.\"\n",
              "              style=\"display:none;\">\n",
              "        \n",
              "  <svg xmlns=\"http://www.w3.org/2000/svg\" height=\"24px\"viewBox=\"0 0 24 24\"\n",
              "       width=\"24px\">\n",
              "    <path d=\"M0 0h24v24H0V0z\" fill=\"none\"/>\n",
              "    <path d=\"M18.56 5.44l.94 2.06.94-2.06 2.06-.94-2.06-.94-.94-2.06-.94 2.06-2.06.94zm-11 1L8.5 8.5l.94-2.06 2.06-.94-2.06-.94L8.5 2.5l-.94 2.06-2.06.94zm10 10l.94 2.06.94-2.06 2.06-.94-2.06-.94-.94-2.06-.94 2.06-2.06.94z\"/><path d=\"M17.41 7.96l-1.37-1.37c-.4-.4-.92-.59-1.43-.59-.52 0-1.04.2-1.43.59L10.3 9.45l-7.72 7.72c-.78.78-.78 2.05 0 2.83L4 21.41c.39.39.9.59 1.41.59.51 0 1.02-.2 1.41-.59l7.78-7.78 2.81-2.81c.8-.78.8-2.07 0-2.86zM5.41 20L4 18.59l7.72-7.72 1.47 1.35L5.41 20z\"/>\n",
              "  </svg>\n",
              "      </button>\n",
              "      \n",
              "  <style>\n",
              "    .colab-df-container {\n",
              "      display:flex;\n",
              "      flex-wrap:wrap;\n",
              "      gap: 12px;\n",
              "    }\n",
              "\n",
              "    .colab-df-convert {\n",
              "      background-color: #E8F0FE;\n",
              "      border: none;\n",
              "      border-radius: 50%;\n",
              "      cursor: pointer;\n",
              "      display: none;\n",
              "      fill: #1967D2;\n",
              "      height: 32px;\n",
              "      padding: 0 0 0 0;\n",
              "      width: 32px;\n",
              "    }\n",
              "\n",
              "    .colab-df-convert:hover {\n",
              "      background-color: #E2EBFA;\n",
              "      box-shadow: 0px 1px 2px rgba(60, 64, 67, 0.3), 0px 1px 3px 1px rgba(60, 64, 67, 0.15);\n",
              "      fill: #174EA6;\n",
              "    }\n",
              "\n",
              "    [theme=dark] .colab-df-convert {\n",
              "      background-color: #3B4455;\n",
              "      fill: #D2E3FC;\n",
              "    }\n",
              "\n",
              "    [theme=dark] .colab-df-convert:hover {\n",
              "      background-color: #434B5C;\n",
              "      box-shadow: 0px 1px 3px 1px rgba(0, 0, 0, 0.15);\n",
              "      filter: drop-shadow(0px 1px 2px rgba(0, 0, 0, 0.3));\n",
              "      fill: #FFFFFF;\n",
              "    }\n",
              "  </style>\n",
              "\n",
              "      <script>\n",
              "        const buttonEl =\n",
              "          document.querySelector('#df-ffef5cb6-ee83-4dc6-977c-b37e1825808b button.colab-df-convert');\n",
              "        buttonEl.style.display =\n",
              "          google.colab.kernel.accessAllowed ? 'block' : 'none';\n",
              "\n",
              "        async function convertToInteractive(key) {\n",
              "          const element = document.querySelector('#df-ffef5cb6-ee83-4dc6-977c-b37e1825808b');\n",
              "          const dataTable =\n",
              "            await google.colab.kernel.invokeFunction('convertToInteractive',\n",
              "                                                     [key], {});\n",
              "          if (!dataTable) return;\n",
              "\n",
              "          const docLinkHtml = 'Like what you see? Visit the ' +\n",
              "            '<a target=\"_blank\" href=https://colab.research.google.com/notebooks/data_table.ipynb>data table notebook</a>'\n",
              "            + ' to learn more about interactive tables.';\n",
              "          element.innerHTML = '';\n",
              "          dataTable['output_type'] = 'display_data';\n",
              "          await google.colab.output.renderOutput(dataTable, element);\n",
              "          const docLink = document.createElement('div');\n",
              "          docLink.innerHTML = docLinkHtml;\n",
              "          element.appendChild(docLink);\n",
              "        }\n",
              "      </script>\n",
              "    </div>\n",
              "  </div>\n",
              "  "
            ]
          },
          "metadata": {},
          "execution_count": 3
        }
      ]
    },
    {
      "cell_type": "code",
      "source": [
        "len(df)"
      ],
      "metadata": {
        "colab": {
          "base_uri": "https://localhost:8080/"
        },
        "id": "fFi32ry-7zEX",
        "outputId": "1843712b-1e6d-4cac-85d1-dbe19ccb0d0f"
      },
      "execution_count": 4,
      "outputs": [
        {
          "output_type": "execute_result",
          "data": {
            "text/plain": [
              "150"
            ]
          },
          "metadata": {},
          "execution_count": 4
        }
      ]
    },
    {
      "cell_type": "code",
      "source": [
        "df.Species.value_counts()"
      ],
      "metadata": {
        "colab": {
          "base_uri": "https://localhost:8080/"
        },
        "id": "n747x1f375Fl",
        "outputId": "ab340d35-e933-42c1-ba4c-a6038e579ab0"
      },
      "execution_count": 5,
      "outputs": [
        {
          "output_type": "execute_result",
          "data": {
            "text/plain": [
              "Iris-setosa        50\n",
              "Iris-versicolor    50\n",
              "Iris-virginica     50\n",
              "Name: Species, dtype: int64"
            ]
          },
          "metadata": {},
          "execution_count": 5
        }
      ]
    },
    {
      "cell_type": "code",
      "source": [
        "df2=df.drop('Species',axis=1)"
      ],
      "metadata": {
        "id": "oopsTsC79lXf"
      },
      "execution_count": 18,
      "outputs": []
    },
    {
      "cell_type": "code",
      "source": [
        "from sklearn.cluster import KMeans\n",
        "from sklearn.preprocessing import StandardScaler"
      ],
      "metadata": {
        "id": "ctg8BJES7-d_"
      },
      "execution_count": 19,
      "outputs": []
    },
    {
      "cell_type": "code",
      "source": [
        "kmeans = KMeans(n_clusters=3, random_state=0).fit(df2)\n",
        "pred=kmeans.labels_"
      ],
      "metadata": {
        "id": "9fW8tepy8gpn"
      },
      "execution_count": 27,
      "outputs": []
    },
    {
      "cell_type": "code",
      "source": [
        "from sklearn.metrics import silhouette_score\n",
        "score=silhouette_score(df2,labels=pred,metric='euclidean')\n",
        "score"
      ],
      "metadata": {
        "colab": {
          "base_uri": "https://localhost:8080/"
        },
        "id": "0MqLdaMK8gs9",
        "outputId": "5f45e4cc-faf9-4b29-bd01-0b64555d02e8"
      },
      "execution_count": 28,
      "outputs": [
        {
          "output_type": "execute_result",
          "data": {
            "text/plain": [
              "0.5821934246576435"
            ]
          },
          "metadata": {},
          "execution_count": 28
        }
      ]
    },
    {
      "cell_type": "code",
      "source": [
        "kmeans = KMeans(n_clusters=2, random_state=0).fit(df2)\n",
        "pred=kmeans.labels_"
      ],
      "metadata": {
        "id": "4k-Q2p6U8gvu"
      },
      "execution_count": 29,
      "outputs": []
    },
    {
      "cell_type": "code",
      "source": [
        "from sklearn.metrics import silhouette_score\n",
        "score=silhouette_score(df2,labels=pred,metric='euclidean')\n",
        "score"
      ],
      "metadata": {
        "colab": {
          "base_uri": "https://localhost:8080/"
        },
        "id": "m80BO4r28gyN",
        "outputId": "68c00de5-3b13-49f0-fc5c-c16fed55a41e"
      },
      "execution_count": 30,
      "outputs": [
        {
          "output_type": "execute_result",
          "data": {
            "text/plain": [
              "0.6204656046551029"
            ]
          },
          "metadata": {},
          "execution_count": 30
        }
      ]
    },
    {
      "cell_type": "code",
      "source": [
        "#according to kmeans 2 clusters is the optimal number of clusters"
      ],
      "metadata": {
        "id": "KepD-XYI8g0-"
      },
      "execution_count": null,
      "outputs": []
    },
    {
      "cell_type": "code",
      "source": [
        "from sklearn.cluster import AgglomerativeClustering\n",
        "\n",
        "clustering = AgglomerativeClustering(n_clusters=3,linkage='complete',affinity='euclidean').fit(df2)\n",
        "labels=clustering.labels_"
      ],
      "metadata": {
        "id": "ck3TUq4y8g3t"
      },
      "execution_count": 43,
      "outputs": []
    },
    {
      "cell_type": "code",
      "source": [
        "from sklearn.metrics import silhouette_score\n",
        "score=silhouette_score(df2,labels=labels,metric='euclidean')\n",
        "score"
      ],
      "metadata": {
        "colab": {
          "base_uri": "https://localhost:8080/"
        },
        "id": "uSKOOSOw8g6d",
        "outputId": "cfb25f06-6204-4983-c928-706337593929"
      },
      "execution_count": 44,
      "outputs": [
        {
          "output_type": "execute_result",
          "data": {
            "text/plain": [
              "0.5730893012365899"
            ]
          },
          "metadata": {},
          "execution_count": 44
        }
      ]
    },
    {
      "cell_type": "code",
      "source": [
        "from sklearn.cluster import AgglomerativeClustering\n",
        "\n",
        "clustering = AgglomerativeClustering(n_clusters=2,linkage='complete',affinity='euclidean').fit(df2)\n",
        "labels=clustering.labels_"
      ],
      "metadata": {
        "id": "YYXSSeuk8g9O"
      },
      "execution_count": 45,
      "outputs": []
    },
    {
      "cell_type": "code",
      "source": [
        "from sklearn.metrics import silhouette_score\n",
        "score=silhouette_score(df2,labels=labels,metric='euclidean')\n",
        "score"
      ],
      "metadata": {
        "colab": {
          "base_uri": "https://localhost:8080/"
        },
        "id": "0BOvRwrZ8g_-",
        "outputId": "9e63144f-07ae-47d8-d873-8d6c611a2648"
      },
      "execution_count": 46,
      "outputs": [
        {
          "output_type": "execute_result",
          "data": {
            "text/plain": [
              "0.5876239594378092"
            ]
          },
          "metadata": {},
          "execution_count": 46
        }
      ]
    },
    {
      "cell_type": "code",
      "source": [
        "#using AgglomerativeClustering results almost in the same score but 2 clusters still better somehow"
      ],
      "metadata": {
        "id": "jbHgi7Tf_y_2"
      },
      "execution_count": null,
      "outputs": []
    },
    {
      "cell_type": "code",
      "source": [
        "import scipy.cluster.hierarchy as shc\n",
        "\n",
        "plt.figure(figsize=(20, 17))\n",
        "plt.title(\"Counters Dendograms\")\n",
        "dend = shc.dendrogram(shc.linkage(y=df2, method='complete',metric='euclidean'),orientation='right')"
      ],
      "metadata": {
        "colab": {
          "base_uri": "https://localhost:8080/",
          "height": 959
        },
        "id": "BrRecypn_8m-",
        "outputId": "c2cc6f11-f11f-45d0-8ac6-661da758a489"
      },
      "execution_count": 48,
      "outputs": [
        {
          "output_type": "display_data",
          "data": {
            "text/plain": [
              "<Figure size 1440x1224 with 1 Axes>"
            ],
            "image/png": "[encoded data removed]"
          },
          "metadata": {
            "needs_background": "light"
          }
        }
      ]
    },
    {
      "cell_type": "code",
      "source": [
        "import scipy.cluster.hierarchy as shc\n",
        "\n",
        "plt.figure(figsize=(20, 17))\n",
        "plt.title(\"Counters Dendograms\")\n",
        "dend = shc.dendrogram(shc.linkage(y=df2, method='single',metric='euclidean'),orientation='right')"
      ],
      "metadata": {
        "colab": {
          "base_uri": "https://localhost:8080/",
          "height": 959
        },
        "id": "SUIm_INM_8pn",
        "outputId": "4489be91-f1f2-4a6f-ad86-2ec6441bda65"
      },
      "execution_count": 49,
      "outputs": [
        {
          "output_type": "display_data",
          "data": {
            "text/plain": [
              "<Figure size 1440x1224 with 1 Axes>"
            ],
            "image/png": "[encoded data removed]"
          },
          "metadata": {
            "needs_background": "light"
          }
        }
      ]
    },
    {
      "cell_type": "code",
      "source": [
        "#as you can see whether the method is single or complete  2 clusters still the best option"
      ],
      "metadata": {
        "id": "m4NCaJwo_8s_"
      },
      "execution_count": null,
      "outputs": []
    },
    {
      "cell_type": "code",
      "source": [
        "from sklearn.cluster import DBSCAN\n",
        "from sklearn.neighbors import NearestNeighbors"
      ],
      "metadata": {
        "id": "uktVEssb_8wN"
      },
      "execution_count": 51,
      "outputs": []
    },
    {
      "cell_type": "code",
      "source": [
        "mins=5\n",
        "nn = NearestNeighbors(n_neighbors=mins+1)\n",
        "\n",
        "nn.fit(df2)\n",
        "\n",
        "distances, neighbors = nn.kneighbors(df2)\n",
        "\n",
        "distances"
      ],
      "metadata": {
        "colab": {
          "base_uri": "https://localhost:8080/"
        },
        "id": "-2deUdS2BZN1",
        "outputId": "ef87ca61-b987-4cce-982b-10340ea7be45"
      },
      "execution_count": 57,
      "outputs": [
        {
          "output_type": "execute_result",
          "data": {
            "text/plain": [
              "array([[0.        , 1.13578167, 2.06397674, 3.06920185, 4.00249922,\n",
              "        5.03785669],\n",
              "       [0.        , 1.04403065, 1.13578167, 2.02731349, 3.06104557,\n",
              "        4.14608249],\n",
              "       [0.        , 1.02956301, 1.04403065, 2.06397674, 2.06397674,\n",
              "        3.19061123],\n",
              "       [0.        , 1.02956301, 1.19163753, 2.02731349, 2.31516738,\n",
              "        3.01827765],\n",
              "       [0.        , 1.17473401, 1.19163753, 2.05182845, 2.06397674,\n",
              "        3.00832179],\n",
              "       [0.        , 1.17473401, 1.4106736 , 2.11896201, 2.31516738,\n",
              "        3.19061123],\n",
              "       [0.        , 1.08627805, 1.4106736 , 2.05182845, 2.07364414,\n",
              "        3.01827765],\n",
              "       [0.        , 1.08627805, 1.27279221, 2.02731349, 2.11896201,\n",
              "        3.00832179],\n",
              "       [0.        , 1.14455231, 1.27279221, 2.07364414, 2.37697286,\n",
              "        3.07408523],\n",
              "       [0.        , 1.14455231, 1.27279221, 2.02731349, 2.02977831,\n",
              "        3.00499584],\n",
              "       [0.        , 1.2083046 , 1.27279221, 2.20680765, 2.37697286,\n",
              "        3.04138127],\n",
              "       [0.        , 1.1       , 1.2083046 , 2.02977831, 2.16101828,\n",
              "        3.07408523],\n",
              "       [0.        , 1.1       , 1.15758369, 2.20680765, 2.45967478,\n",
              "        3.00499584],\n",
              "       [0.        , 1.15758369, 2.06639783, 2.16101828, 2.85832119,\n",
              "        3.2969683 ],\n",
              "       [0.        , 1.14017543, 2.05426386, 2.06639783, 2.45967478,\n",
              "        3.12889757],\n",
              "       [0.        , 1.14017543, 1.17473401, 2.27815715, 2.85832119,\n",
              "        3.06757233],\n",
              "       [0.        , 1.12694277, 1.17473401, 2.05426386, 2.06639783,\n",
              "        3.02489669],\n",
              "       [0.        , 1.12694277, 1.24096736, 2.02484567, 2.27815715,\n",
              "        3.03315018],\n",
              "       [0.        , 1.18321596, 1.24096736, 2.06397674, 2.06639783,\n",
              "        3.06757233],\n",
              "       [0.        , 1.14017543, 1.18321596, 2.00499377, 2.02484567,\n",
              "        3.02489669],\n",
              "       [0.        , 1.12249722, 1.14017543, 2.06397674, 2.2737634 ,\n",
              "        3.03150128],\n",
              "       [0.        , 1.12249722, 1.24498996, 2.00499377, 2.05182845,\n",
              "        3.06267857],\n",
              "       [0.        , 1.24498996, 1.38564065, 2.21133444, 2.2737634 ,\n",
              "        3.09030743],\n",
              "       [0.        , 1.10905365, 1.38564065, 2.04939015, 2.05182845,\n",
              "        3.00665928],\n",
              "       [0.        , 1.10905365, 1.13578167, 2.04205779, 2.21133444,\n",
              "        3.05450487],\n",
              "       [0.        , 1.09544512, 1.13578167, 2.04939015, 2.07364414,\n",
              "        3.03973683],\n",
              "       [0.        , 1.04880885, 1.09544512, 2.02977831, 2.04205779,\n",
              "        3.00665928],\n",
              "       [0.        , 1.00995049, 1.04880885, 2.07364414, 2.08566536,\n",
              "        3.05450487],\n",
              "       [0.        , 1.00995049, 1.15325626, 2.02977831, 2.07123152,\n",
              "        3.01496269],\n",
              "       [0.        , 1.00995049, 1.15325626, 2.08566536, 2.14009346,\n",
              "        3.02820079],\n",
              "       [0.        , 1.00995049, 1.22474487, 2.07123152, 2.27596134,\n",
              "        3.05450487],\n",
              "       [0.        , 1.22474487, 1.27279221, 2.14009346, 2.16794834,\n",
              "        3.01496269],\n",
              "       [0.        , 1.05830052, 1.27279221, 2.25610283, 2.27596134,\n",
              "        3.15436206],\n",
              "       [0.        , 1.05830052, 1.60934769, 2.16794834, 2.3       ,\n",
              "        3.082207  ],\n",
              "       [0.        , 1.05830052, 1.60934769, 2.13775583, 2.25610283,\n",
              "        3.        ],\n",
              "       [0.        , 1.05830052, 1.161895  , 2.02977831, 2.3       ,\n",
              "        3.06757233],\n",
              "       [0.        , 1.161895  , 1.25299641, 2.13775583, 2.33666429,\n",
              "        3.03479818],\n",
              "       [0.        , 1.14455231, 1.25299641, 2.02977831, 2.03469899,\n",
              "        3.        ],\n",
              "       [0.        , 1.14455231, 1.3       , 2.14941853, 2.33666429,\n",
              "        3.06757233],\n",
              "       [0.        , 1.03440804, 1.3       , 2.03469899, 2.37065392,\n",
              "        3.03479818],\n",
              "       [0.        , 1.03440804, 1.64012195, 2.11187121, 2.14941853,\n",
              "        3.02985148],\n",
              "       [0.        , 1.35277493, 1.64012195, 2.37065392, 2.42280829,\n",
              "        3.08382879],\n",
              "       [0.        , 1.30384048, 1.35277493, 2.11187121, 2.29128785,\n",
              "        3.03644529],\n",
              "       [0.        , 1.10905365, 1.30384048, 2.1023796 , 2.42280829,\n",
              "        3.02985148],\n",
              "       [0.        , 1.10905365, 1.4106736 , 2.03224014, 2.29128785,\n",
              "        3.14642654],\n",
              "       [0.        , 1.33416641, 1.4106736 , 2.02237484, 2.1023796 ,\n",
              "        3.03644529],\n",
              "       [0.        , 1.28452326, 1.33416641, 2.01494417, 2.03224014,\n",
              "        3.04302481],\n",
              "       [0.        , 1.28452326, 1.32287566, 2.02237484, 2.04205779,\n",
              "        3.14642654],\n",
              "       [0.        , 1.12249722, 1.32287566, 2.01494417, 3.12409987,\n",
              "        4.03112887],\n",
              "       [0.        , 1.12249722, 2.04205779, 3.04959014, 4.01746189,\n",
              "        4.15571895],\n",
              "       [0.        , 1.18743421, 2.0174241 , 3.54400903, 4.05339364,\n",
              "        4.16413256],\n",
              "       [0.        , 1.18743421, 1.19163753, 2.43104916, 3.02985148,\n",
              "        4.08533964],\n",
              "       [0.        , 1.19163753, 2.0174241 , 2.08326667, 2.10950231,\n",
              "        3.27566787],\n",
              "       [0.        , 1.62788206, 2.10950231, 2.13072758, 2.43104916,\n",
              "        3.34962684],\n",
              "       [0.        , 1.3       , 1.62788206, 2.07605395, 2.08326667,\n",
              "        3.02985148],\n",
              "       [0.        , 1.3       , 1.3190906 , 2.13072758, 2.51594913,\n",
              "        3.13528308],\n",
              "       [0.        , 1.3190906 , 2.07605395, 2.08566536, 2.46779254,\n",
              "        3.34962684],\n",
              "       [0.        , 2.16794834, 2.43310501, 2.46779254, 2.51594913,\n",
              "        3.03479818],\n",
              "       [0.        , 1.87082869, 2.08566536, 2.43310501, 2.94448637,\n",
              "        3.1144823 ],\n",
              "       [0.        , 1.36014705, 1.87082869, 2.16333077, 2.16794834,\n",
              "        3.17175031],\n",
              "       [0.        , 1.36014705, 1.88414437, 2.3       , 2.94448637,\n",
              "        3.03479818],\n",
              "       [0.        , 1.39283883, 1.88414437, 2.07605395, 2.16333077,\n",
              "        3.082207  ],\n",
              "       [0.        , 1.39283883, 1.46628783, 2.21359436, 2.3       ,\n",
              "        3.17175031],\n",
              "       [0.        , 1.46628783, 1.57162336, 2.07605395, 2.11896201,\n",
              "        3.05122926],\n",
              "       [0.        , 1.57162336, 1.70293864, 2.20454077, 2.21359436,\n",
              "        3.06920185],\n",
              "       [0.        , 1.49666295, 1.70293864, 2.11896201, 2.28473193,\n",
              "        3.17490157],\n",
              "       [0.        , 1.24096736, 1.49666295, 2.20454077, 2.23606798,\n",
              "        3.05122926],\n",
              "       [0.        , 1.24096736, 1.34907376, 2.03224014, 2.28473193,\n",
              "        3.06920185],\n",
              "       [0.        , 1.34907376, 1.40356688, 2.23606798, 2.29564806,\n",
              "        3.10805405],\n",
              "       [0.        , 1.40356688, 1.69705627, 2.03224014, 2.09523268,\n",
              "        3.12569992],\n",
              "       [0.        , 1.44568323, 1.69705627, 2.17944947, 2.29564806,\n",
              "        3.09354166],\n",
              "       [0.        , 1.40712473, 1.44568323, 2.09523268, 2.12132034,\n",
              "        3.03150128],\n",
              "       [0.        , 1.12249722, 1.40712473, 2.13775583, 2.17944947,\n",
              "        3.09838668],\n",
              "       [0.        , 1.12249722, 1.12694277, 2.1023796 , 2.12132034,\n",
              "        3.08868904],\n",
              "       [0.        , 1.03440804, 1.12694277, 2.10475652, 2.13775583,\n",
              "        3.03150128],\n",
              "       [0.        , 1.03440804, 1.11355287, 2.1023796 , 2.11187121,\n",
              "        3.06431069],\n",
              "       [0.        , 1.08627805, 1.11355287, 2.10475652, 2.17944947,\n",
              "        3.08868904],\n",
              "       [0.        , 1.08627805, 1.33790882, 2.11187121, 2.81069386,\n",
              "        3.122499  ],\n",
              "       [0.        , 1.33790882, 1.55884573, 2.17944947, 2.26936114,\n",
              "        3.06431069],\n",
              "       [0.        , 1.08627805, 1.55884573, 2.02977831, 2.81069386,\n",
              "        3.03644529],\n",
              "       [0.        , 1.00995049, 1.08627805, 2.04939015, 2.26936114,\n",
              "        3.35857112],\n",
              "       [0.        , 1.00995049, 1.12249722, 2.02977831, 2.58069758,\n",
              "        3.20312348],\n",
              "       [0.        , 1.12249722, 1.62480768, 2.04939015, 2.16794834,\n",
              "        3.03644529],\n",
              "       [0.        , 1.34907376, 1.62480768, 2.20227155, 2.58069758,\n",
              "        3.13368792],\n",
              "       [0.        , 1.23693169, 1.34907376, 2.16794834, 2.39582971,\n",
              "        3.20312348],\n",
              "       [0.        , 1.23693169, 1.27671453, 2.20227155, 2.32379001,\n",
              "        3.09354166],\n",
              "       [0.        , 1.27671453, 1.3892444 , 2.37065392, 2.39582971,\n",
              "        3.13368792],\n",
              "       [0.        , 1.3892444 , 1.43874946, 2.2       , 2.32379001,\n",
              "        3.12089731],\n",
              "       [0.        , 1.12694277, 1.43874946, 2.06639783, 2.37065392,\n",
              "        3.08382879],\n",
              "       [0.        , 1.08627805, 1.12694277, 2.2       , 2.23159136,\n",
              "        3.01827765],\n",
              "       [0.        , 1.08627805, 1.26491106, 2.06155281, 2.06639783,\n",
              "        3.12089731],\n",
              "       [0.        , 1.26491106, 1.28452326, 2.23159136, 2.74772633,\n",
              "        3.08382879],\n",
              "       [0.        , 1.28452326, 1.50332964, 2.02484567, 2.06155281,\n",
              "        3.01827765],\n",
              "       [0.        , 1.50332964, 1.55563492, 2.41453929, 2.74772633,\n",
              "        3.25422802],\n",
              "       [0.        , 1.05356538, 1.55563492, 2.01246118, 2.02484567,\n",
              "        3.06757233],\n",
              "       [0.        , 1.00995049, 1.05356538, 2.06881609, 2.41453929,\n",
              "        3.03479818],\n",
              "       [0.        , 1.00995049, 1.12249722, 2.01246118, 2.44948974,\n",
              "        3.00333148],\n",
              "       [0.        , 1.12249722, 2.02484567, 2.06881609, 2.07364414,\n",
              "        3.06757233],\n",
              "       [0.        , 1.64316767, 2.02484567, 2.44948974, 3.32565783,\n",
              "        3.81837662],\n",
              "       [0.        , 1.64316767, 2.07364414, 2.3194827 , 2.58069758,\n",
              "        3.00333148],\n",
              "       [0.        , 1.6673332 , 2.21359436, 2.58069758, 3.13209195,\n",
              "        3.67423461],\n",
              "       [0.        , 1.6673332 , 1.86010752, 2.1330729 , 2.3194827 ,\n",
              "        3.18747549],\n",
              "       [0.        , 1.35277493, 1.86010752, 2.09284495, 2.21359436,\n",
              "        3.12089731],\n",
              "       [0.        , 1.11803399, 1.35277493, 2.1330729 , 2.60576284,\n",
              "        3.13209195],\n",
              "       [0.        , 1.11803399, 1.69115345, 2.09284495, 2.95803989,\n",
              "        3.17175031],\n",
              "       [0.        , 1.69115345, 2.06881609, 2.60576284, 3.12089731,\n",
              "        3.28481354],\n",
              "       [0.        , 2.95803989, 2.98998328, 3.18904374, 3.51283361,\n",
              "        3.6207734 ],\n",
              "       [0.        , 1.33041347, 2.06881609, 2.24276615, 3.17175031,\n",
              "        3.18904374],\n",
              "       [0.        , 1.33041347, 1.74355958, 2.24944438, 2.98998328,\n",
              "        3.06431069],\n",
              "       [0.        , 1.70293864, 1.74355958, 2.24276615, 2.53968502,\n",
              "        3.1685959 ],\n",
              "       [0.        , 1.14455231, 1.70293864, 2.07364414, 2.24944438,\n",
              "        3.18433667],\n",
              "       [0.        , 1.14455231, 1.15325626, 2.15174348, 2.53968502,\n",
              "        3.06431069],\n",
              "       [0.        , 1.15325626, 1.64924225, 2.07364414, 2.3       ,\n",
              "        3.04630924],\n",
              "       [0.        , 1.12694277, 1.64924225, 2.15174348, 2.27156334,\n",
              "        3.18433667],\n",
              "       [0.        , 1.12694277, 1.25299641, 2.24722051, 2.3       ,\n",
              "        3.10805405],\n",
              "       [0.        , 1.15758369, 1.25299641, 2.27156334, 2.83196045,\n",
              "        3.04630924],\n",
              "       [0.        , 1.15758369, 2.16333077, 2.24722051, 2.79463772,\n",
              "        3.19061123],\n",
              "       [0.        , 1.57797338, 2.16333077, 2.83196045, 3.318132  ,\n",
              "        3.58189894],\n",
              "       [0.        , 1.57797338, 2.53771551, 2.79463772, 2.88097206,\n",
              "        3.68917335],\n",
              "       [0.        , 1.98494332, 2.18632111, 2.88097206, 3.19843712,\n",
              "        3.58189894],\n",
              "       [0.        , 1.89208879, 1.98494332, 2.42693222, 2.53771551,\n",
              "        3.24037035],\n",
              "       [0.        , 1.89208879, 2.13072758, 2.18632111, 2.94108823,\n",
              "        3.33316666],\n",
              "       [0.        , 2.42693222, 2.5       , 2.5019992 , 2.94108823,\n",
              "        3.15277655],\n",
              "       [0.        , 1.5       , 2.13072758, 2.5       , 2.50399681,\n",
              "        3.00499584],\n",
              "       [0.        , 1.2       , 1.5       , 2.32379001, 2.5019992 ,\n",
              "        3.19061123],\n",
              "       [0.        , 1.2       , 1.8973666 , 2.50399681, 2.54165301,\n",
              "        3.15277655],\n",
              "       [0.        , 1.02956301, 1.8973666 , 2.18403297, 2.32379001,\n",
              "        3.00499584],\n",
              "       [0.        , 1.02956301, 1.30766968, 2.46170673, 2.54165301,\n",
              "        3.19061123],\n",
              "       [0.        , 1.30766968, 1.40356688, 2.18403297, 2.3       ,\n",
              "        3.1701735 ],\n",
              "       [0.        , 1.12249722, 1.40356688, 2.37697286, 2.46170673,\n",
              "        3.17490157],\n",
              "       [0.        , 1.12249722, 1.53297097, 2.3       , 2.310844  ,\n",
              "        3.37194306],\n",
              "       [0.        , 1.53297097, 2.22036033, 2.37697286, 3.082207  ,\n",
              "        3.591657  ],\n",
              "       [0.        , 1.32287566, 2.18403297, 2.22036033, 2.310844  ,\n",
              "        3.17490157],\n",
              "       [0.        , 1.15758369, 1.32287566, 2.76405499, 3.082207  ,\n",
              "        3.22800248],\n",
              "       [0.        , 1.15758369, 2.18403297, 2.18632111, 2.38327506,\n",
              "        3.08382879],\n",
              "       [0.        , 1.83847763, 2.18632111, 2.51197134, 2.76405499,\n",
              "        3.31511689],\n",
              "       [0.        , 1.21243557, 1.83847763, 2.29128785, 2.38327506,\n",
              "        3.09515751],\n",
              "       [0.        , 1.21243557, 1.28840987, 2.08566536, 2.51197134,\n",
              "        3.0757113 ],\n",
              "       [0.        , 1.28840987, 1.50665192, 2.29128785, 2.34520788,\n",
              "        3.18747549],\n",
              "       [0.        , 1.08166538, 1.50665192, 2.03224014, 2.08566536,\n",
              "        3.09515751],\n",
              "       [0.        , 1.08166538, 1.14017543, 2.33880311, 2.34520788,\n",
              "        3.01993377],\n",
              "       [0.        , 1.14017543, 1.59059737, 2.03224014, 2.15870331,\n",
              "        3.07896086],\n",
              "       [0.        , 1.59059737, 1.74642492, 2.33880311, 2.42693222,\n",
              "        3.17332633],\n",
              "       [0.        , 1.04880885, 1.74642492, 2.13072758, 2.15870331,\n",
              "        3.01993377],\n",
              "       [0.        , 1.04880885, 1.17473401, 2.37697286, 2.42693222,\n",
              "        3.07896086],\n",
              "       [0.        , 1.17473401, 1.26885775, 2.03224014, 2.13072758,\n",
              "        3.07408523],\n",
              "       [0.        , 1.15758369, 1.26885775, 2.26715681, 2.37697286,\n",
              "        3.07083051],\n",
              "       [0.        , 1.15758369, 1.17473401, 2.03224014, 2.1       ,\n",
              "        3.10322413],\n",
              "       [0.        , 1.17473401, 1.26095202, 2.26715681, 3.07408523,\n",
              "        4.0484565 ],\n",
              "       [0.        , 1.26095202, 2.1       , 3.07083051, 4.11096096,\n",
              "        5.1555795 ]])"
            ]
          },
          "metadata": {},
          "execution_count": 57
        }
      ]
    },
    {
      "cell_type": "code",
      "source": [
        "distances = np.sort(distances[:, mins], axis = 0)"
      ],
      "metadata": {
        "id": "r9C6QljiBZRl"
      },
      "execution_count": 58,
      "outputs": []
    },
    {
      "cell_type": "code",
      "source": [
        "plt.plot(list(range(0,len(distances))),distances)\n",
        "plt.show()"
      ],
      "metadata": {
        "colab": {
          "base_uri": "https://localhost:8080/",
          "height": 265
        },
        "id": "mh8oL1b2BZVV",
        "outputId": "61ed956a-c6cd-4ff8-eb61-3851cf4eedea"
      },
      "execution_count": 59,
      "outputs": [
        {
          "output_type": "display_data",
          "data": {
            "text/plain": [
              "<Figure size 432x288 with 1 Axes>"
            ],
            "image/png": "[encoded data removed]"
          },
          "metadata": {
            "needs_background": "light"
          }
        }
      ]
    },
    {
      "cell_type": "code",
      "source": [
        "clustering = DBSCAN(eps=3.25, min_samples=2).fit(df2)"
      ],
      "metadata": {
        "id": "P2wGcBqe_8ze"
      },
      "execution_count": 71,
      "outputs": []
    },
    {
      "cell_type": "code",
      "source": [
        "pred=clustering.labels_\n",
        "set(pred)"
      ],
      "metadata": {
        "colab": {
          "base_uri": "https://localhost:8080/"
        },
        "id": "1g6JZHkaC8dO",
        "outputId": "4c60232d-5d36-41b0-f57f-b98cfee742b6"
      },
      "execution_count": 72,
      "outputs": [
        {
          "output_type": "execute_result",
          "data": {
            "text/plain": [
              "{0, 1}"
            ]
          },
          "metadata": {},
          "execution_count": 72
        }
      ]
    },
    {
      "cell_type": "code",
      "source": [
        "from sklearn.metrics import silhouette_score\n",
        "res=silhouette_score(df2,labels=pred,metric='euclidean')\n",
        "res"
      ],
      "metadata": {
        "colab": {
          "base_uri": "https://localhost:8080/"
        },
        "id": "XSxxZ8q6C8gO",
        "outputId": "a161088c-74c0-473b-9f17-a66a1cac6838"
      },
      "execution_count": 73,
      "outputs": [
        {
          "output_type": "execute_result",
          "data": {
            "text/plain": [
              "0.5598862400887489"
            ]
          },
          "metadata": {},
          "execution_count": 73
        }
      ]
    },
    {
      "cell_type": "code",
      "source": [
        "#as you can see even with DBSCAN  the ultimate number of clusters still 2"
      ],
      "metadata": {
        "id": "KaOFMhO-C8it"
      },
      "execution_count": null,
      "outputs": []
    },
    {
      "cell_type": "code",
      "source": [
        ""
      ],
      "metadata": {
        "id": "tg-085jWC8mF"
      },
      "execution_count": null,
      "outputs": []
    }
  ]
}